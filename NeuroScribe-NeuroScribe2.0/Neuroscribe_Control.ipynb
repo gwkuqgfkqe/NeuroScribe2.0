{
 "cells": [
  {
   "cell_type": "markdown",
   "metadata": {},
   "source": [
    "## Using the LQT-Augmented Controller"
   ]
  },
  {
   "cell_type": "markdown",
   "metadata": {},
   "source": [
    "### All the necessary imports"
   ]
  },
  {
   "cell_type": "code",
   "execution_count": null,
   "metadata": {},
   "outputs": [],
   "source": []
  },
  {
   "cell_type": "markdown",
   "metadata": {},
   "source": [
    "### Creating the LQT Controller"
   ]
  },
  {
   "cell_type": "code",
   "execution_count": null,
   "metadata": {},
   "outputs": [],
   "source": [
    "# Initialize controller\n",
    "controller = LQTController(\n",
    "    state_dim=6,  # 3 variables (pos, vel, acc) × 2 dimensions\n",
    "    control_dim=2,  # 2D control input\n",
    "    dt=1.0/(T * l),  # Your DMP timestep\n",
    "    T=num_timesteps  # Total trajectory timesteps\n",
    ")"
   ]
  },
  {
   "cell_type": "markdown",
   "metadata": {},
   "source": [
    "### Creating the DMP integrator"
   ]
  },
  {
   "cell_type": "code",
   "execution_count": null,
   "metadata": {},
   "outputs": [],
   "source": [
    "# Initialize DMP with controller\n",
    "dmp_integrator = DMPIntegrator(rbf='gaussian')\n",
    "dmp_integrator.set_controller(controller)\n",
    "\n",
    "# Initialize DMP parameters\n",
    "dmp_params = DMPParameters(\n",
    "    N=5,  # Number of basis functions\n",
    "    tau=1.0,  # Time scaling\n",
    "    dt=0.01,  # Timestep\n",
    "    Dof=2,   # Degrees of freedom (2D)\n",
    "    scale=None,\n",
    "    a_z=25  # Default alpha_z\n",
    ")"
   ]
  },
  {
   "cell_type": "markdown",
   "metadata": {},
   "source": [
    "### Use in Neuroscribe"
   ]
  },
  {
   "cell_type": "code",
   "execution_count": null,
   "metadata": {},
   "outputs": [],
   "source": [
    "# Example usage\n",
    "# Assuming your input is EEG data of shape [batch_size, channels, time]\n",
    "eeg_input = torch.randn(32, 5, 384)  # Example batch of EEG data\n",
    "y0 = torch.zeros(32, 2)  # Initial positions\n",
    "goal = torch.ones(32, 2)  # Target positions\n",
    "\n",
    "# Get TSFEEGNet features\n",
    "tsf_output = model.TSFEEGNet(eeg_input)\n",
    "s = model.L(tsf_output)\n",
    "\n",
    "# Generate trajectory with LQT control\n",
    "X, dX, ddX = dmp_integrator.forward(\n",
    "    inputs=tsf_output,\n",
    "    parameters=dmp_params.data_tensor,\n",
    "    param_gradients=dmp_params.grad_tensor,\n",
    "    scaling=None,\n",
    "    y0=y0,\n",
    "    dy0=None,  # Will default to zeros + 0.01\n",
    "    goal=goal,\n",
    "    s=s\n",
    ")"
   ]
  }
 ],
 "metadata": {
  "language_info": {
   "name": "python"
  }
 },
 "nbformat": 4,
 "nbformat_minor": 2
}
